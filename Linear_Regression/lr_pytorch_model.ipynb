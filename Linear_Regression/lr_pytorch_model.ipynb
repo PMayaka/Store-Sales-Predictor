{
 "cells": [
  {
   "cell_type": "markdown",
   "id": "8b1e0c2d",
   "metadata": {},
   "source": [
    "#  Imports"
   ]
  },
  {
   "cell_type": "code",
   "execution_count": null,
   "id": "59d30432",
   "metadata": {},
   "outputs": [],
   "source": [
    "import pandas as pd\n",
    "import numpy as np\n",
    "import torch\n",
    "from torch import nn\n",
    "from torch.utils.data import DataLoader, TensorDataset"
   ]
  },
  {
   "cell_type": "markdown",
   "id": "923e0b52",
   "metadata": {},
   "source": [
    "# Load & Merge Data\n"
   ]
  },
  {
   "cell_type": "code",
   "execution_count": null,
   "id": "e3880374",
   "metadata": {},
   "outputs": [],
   "source": [
    "train = pd.read_csv(\"train.csv\")\n",
    "test = pd.read_csv(\"test.csv\")\n",
    "features = pd.read_csv(\"features.csv\")\n",
    "stores = pd.read_csv(\"stores.csv\")\n",
    "\n",
    "def preprocess(df, is_train=True):\n",
    "    df = pd.merge(df, features, on=[\"Store\", \"Date\", \"IsHoliday\"], how=\"left\")\n",
    "    df = pd.merge(df, stores, on=\"Store\", how=\"left\")\n",
    "    df[\"Date\"] = pd.to_datetime(df[\"Date\"])\n",
    "    df[\"Year\"] = df[\"Date\"].dt.year\n",
    "    df[\"Month\"] = df[\"Date\"].dt.month\n",
    "    df[\"Week\"] = df[\"Date\"].dt.isocalendar().week.astype(int)\n",
    "    df[\"Type\"] = df[\"Type\"].astype(\"category\").cat.codes\n",
    "    df[\"IsHoliday\"] = df[\"IsHoliday\"].astype(int)\n",
    "    df.fillna(0, inplace=True)\n",
    "    return df\n",
    "\n",
    "train = preprocess(train)\n",
    "test = preprocess(test, is_train=False)"
   ]
  },
  {
   "cell_type": "markdown",
   "id": "2e4ae151",
   "metadata": {},
   "source": [
    "# Prepare Features and Target\n"
   ]
  },
  {
   "cell_type": "code",
   "execution_count": null,
   "id": "f296e5ee",
   "metadata": {},
   "outputs": [],
   "source": [
    "features_cols = [\n",
    "    \"Store\", \"Dept\", \"IsHoliday\", \"Temperature\", \"Fuel_Price\",\n",
    "    \"CPI\", \"Unemployment\", \"Size\", \"Type\", \"Year\", \"Month\", \"Week\",\n",
    "    \"MarkDown1\", \"MarkDown2\", \"MarkDown3\", \"MarkDown4\", \"MarkDown5\"\n",
    "]\n",
    "\n",
    "train = train.dropna(subset=[\"Weekly_Sales\"])  # Ensure target has no NaNs\n",
    "X_train_np = train[features_cols].values.astype(np.float32)\n",
    "y_train_np = np.log1p(train[\"Weekly_Sales\"].values.astype(np.float32))  # log transform\n",
    "\n",
    "X_test_np = test[features_cols].values.astype(np.float32)"
   ]
  },
  {
   "cell_type": "markdown",
   "id": "703e8bd8",
   "metadata": {},
   "source": [
    "# Convert to PyTorch Tensors\n"
   ]
  },
  {
   "cell_type": "code",
   "execution_count": null,
   "id": "c36d67f5",
   "metadata": {},
   "outputs": [],
   "source": [
    "X_train_tensor = torch.tensor(X_train_np)\n",
    "y_train_tensor = torch.tensor(y_train_np).view(-1, 1)\n",
    "X_test_tensor = torch.tensor(X_test_np)"
   ]
  },
  {
   "cell_type": "markdown",
   "id": "44565d1b",
   "metadata": {},
   "source": [
    "# Create Dataset and DataLoader\n"
   ]
  },
  {
   "cell_type": "code",
   "execution_count": null,
   "id": "4ce04547",
   "metadata": {},
   "outputs": [
    {
     "ename": "ModuleNotFoundError",
     "evalue": "No module named 'torch'",
     "output_type": "error",
     "traceback": [
      "\u001b[1;31m---------------------------------------------------------------------------\u001b[0m",
      "\u001b[1;31mModuleNotFoundError\u001b[0m                       Traceback (most recent call last)",
      "Cell \u001b[1;32mIn[1], line 4\u001b[0m\n\u001b[0;32m      2\u001b[0m \u001b[38;5;28;01mimport\u001b[39;00m \u001b[38;5;21;01mpandas\u001b[39;00m \u001b[38;5;28;01mas\u001b[39;00m \u001b[38;5;21;01mpd\u001b[39;00m\n\u001b[0;32m      3\u001b[0m \u001b[38;5;28;01mimport\u001b[39;00m \u001b[38;5;21;01mnumpy\u001b[39;00m \u001b[38;5;28;01mas\u001b[39;00m \u001b[38;5;21;01mnp\u001b[39;00m\n\u001b[1;32m----> 4\u001b[0m \u001b[38;5;28;01mimport\u001b[39;00m \u001b[38;5;21;01mtorch\u001b[39;00m\n\u001b[0;32m      5\u001b[0m \u001b[38;5;28;01mfrom\u001b[39;00m \u001b[38;5;21;01mtorch\u001b[39;00m \u001b[38;5;28;01mimport\u001b[39;00m nn\n\u001b[0;32m      6\u001b[0m \u001b[38;5;28;01mfrom\u001b[39;00m \u001b[38;5;21;01mtorch\u001b[39;00m\u001b[38;5;21;01m.\u001b[39;00m\u001b[38;5;21;01mutils\u001b[39;00m\u001b[38;5;21;01m.\u001b[39;00m\u001b[38;5;21;01mdata\u001b[39;00m \u001b[38;5;28;01mimport\u001b[39;00m DataLoader, TensorDataset\n",
      "\u001b[1;31mModuleNotFoundError\u001b[0m: No module named 'torch'"
     ]
    }
   ],
   "source": [
    "train_dataset = TensorDataset(X_train_tensor, y_train_tensor)\n",
    "train_loader = DataLoader(train_dataset, batch_size=1024, shuffle=True)"
   ]
  },
  {
   "cell_type": "markdown",
   "id": "9abd9958",
   "metadata": {},
   "source": [
    "# Simple Linear Regression Model\n"
   ]
  },
  {
   "cell_type": "code",
   "execution_count": null,
   "id": "4a383ee1",
   "metadata": {},
   "outputs": [],
   "source": [
    "model = nn.Linear(X_train_tensor.shape[1], 1)"
   ]
  },
  {
   "cell_type": "markdown",
   "id": "f449a22f",
   "metadata": {},
   "source": [
    "# Loss and Optimizer\n"
   ]
  },
  {
   "cell_type": "code",
   "execution_count": null,
   "id": "a7d500d5",
   "metadata": {},
   "outputs": [],
   "source": [
    "criterion = nn.MSELoss()\n",
    "optimizer = torch.optim.Adam(model.parameters(), lr=0.01)"
   ]
  },
  {
   "cell_type": "markdown",
   "id": "ef95cbf5",
   "metadata": {},
   "source": [
    "# Train loop\n"
   ]
  },
  {
   "cell_type": "code",
   "execution_count": null,
   "id": "3368aa39",
   "metadata": {},
   "outputs": [],
   "source": [
    "epochs = 20\n",
    "for epoch in range(epochs):\n",
    "    model.train()\n",
    "    epoch_loss = 0.0\n",
    "    for X_batch, y_batch in train_loader:\n",
    "        optimizer.zero_grad()\n",
    "        output = model(X_batch)\n",
    "        loss = criterion(output, y_batch)\n",
    "        loss.backward()\n",
    "        optimizer.step()\n",
    "        epoch_loss += loss.item()\n",
    "    print(f\"Epoch {epoch+1}/{epochs} | Loss: {epoch_loss:.4f}\")"
   ]
  },
  {
   "cell_type": "markdown",
   "id": "3a4cdb60",
   "metadata": {},
   "source": [
    "# Make predictions\n"
   ]
  },
  {
   "cell_type": "code",
   "execution_count": null,
   "id": "40219a90",
   "metadata": {},
   "outputs": [],
   "source": [
    "model.eval()\n",
    "with torch.no_grad():\n",
    "    test_preds_log = model(X_test_tensor).squeeze().numpy()\n",
    "    test_preds = np.expm1(test_preds_log)  # Reverse log1p\n",
    "    \n",
    "#Create Id column in the format store_dept_date\n",
    "submission = test.copy()\n",
    "submission['Id'] = submission['Store'].astype(str) + \"\" + \\\n",
    "                   submission['Dept'].astype(str) + \"\" + \\\n",
    "                   submission['Date'].dt.strftime(\"%Y-%m-%d\")\n",
    "\n",
    "#Add predictions\n",
    "submission['Weekly_Sales'] = predictions\n",
    "\n",
    "#Select required columns and save\n",
    "submission[['Id', 'Weekly_Sales']].to_csv(\"Submission.csv\", index=False)"
   ]
  }
 ],
 "metadata": {
  "kernelspec": {
   "display_name": "bhdac.1",
   "language": "python",
   "name": "python3"
  },
  "language_info": {
   "codemirror_mode": {
    "name": "ipython",
    "version": 3
   },
   "file_extension": ".py",
   "mimetype": "text/x-python",
   "name": "python",
   "nbconvert_exporter": "python",
   "pygments_lexer": "ipython3",
   "version": "3.12.7"
  }
 },
 "nbformat": 4,
 "nbformat_minor": 5
}
