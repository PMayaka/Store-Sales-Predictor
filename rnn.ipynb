{
 "cells": [
  {
   "cell_type": "markdown",
   "id": "c97de345",
   "metadata": {},
   "source": [
    "# Walmart sales forecasting using RNN (LSTM )\n",
    "1. data preprocessing.\n",
    "\n",
    "Some things to con\n",
    "2. visualize the data to get a general idea\n",
    "\n",
    "\n",
    "\n",
    "# References:"
   ]
  },
  {
   "cell_type": "code",
   "execution_count": null,
   "id": "bbf26f63",
   "metadata": {
    "vscode": {
     "languageId": "plaintext"
    }
   },
   "outputs": [],
   "source": [
    "import numpy as np\n",
    "import pandas as pd\n",
    "import matplotlib.pyplot as plt\n",
    "from sklearn.preprocessing import MinMaxScaler\n",
    "\n",
    "import torch\n",
    "import torch.nn as nn\n",
    "import torch.nn.functional as F\n",
    "import time\n",
    "import os"
   ]
  },
  {
   "cell_type": "markdown",
   "id": "6c459c2a",
   "metadata": {},
   "source": [
    "# 1. data preprocessing "
   ]
  },
  {
   "cell_type": "code",
   "execution_count": null,
   "id": "df307f89",
   "metadata": {
    "vscode": {
     "languageId": "plaintext"
    }
   },
   "outputs": [],
   "source": [
    "filepath = 'AMZN_2006-01-01_to_2018-01-01.csv'\n",
    "data = pd.read_csv(os.path.join('data', filepath))\n",
    "data = data.sort_values('Date')\n",
    "data.head()"
   ]
  },
  {
   "cell_type": "code",
   "execution_count": null,
   "id": "3dfd162c",
   "metadata": {
    "vscode": {
     "languageId": "plaintext"
    }
   },
   "outputs": [],
   "source": []
  }
 ],
 "metadata": {
  "language_info": {
   "name": "python"
  }
 },
 "nbformat": 4,
 "nbformat_minor": 5
}
