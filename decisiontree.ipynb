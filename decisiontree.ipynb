{
 "cells": [
  {
   "cell_type": "code",
   "execution_count": 1,
   "id": "f8bbadd1",
   "metadata": {},
   "outputs": [],
   "source": [
    "import pandas as pd\n",
    "from sklearn.tree import DecisionTreeRegressor\n"
   ]
  },
  {
   "cell_type": "code",
   "execution_count": 2,
   "id": "36a7a6d1",
   "metadata": {},
   "outputs": [],
   "source": [
    "# Load data\n",
    "folder = 'data'\n",
    "train = pd.read_csv(f\"./{folder}/train.csv\", parse_dates=[\"Date\"])\n",
    "test = pd.read_csv(f\"./{folder}/test.csv\", parse_dates=[\"Date\"])\n",
    "features = pd.read_csv(f\"./{folder}/features.csv\", parse_dates=[\"Date\"])\n",
    "stores = pd.read_csv(f\"./{folder}/stores.csv\")"
   ]
  },
  {
   "cell_type": "code",
   "execution_count": 3,
   "id": "47f9e076",
   "metadata": {},
   "outputs": [],
   "source": [
    "# Merge datasets\n",
    "train = train.merge(features, on=['Store','Date','IsHoliday'], how='left')\n",
    "train = train.merge(stores, on='Store', how='left')\n",
    "test = test.merge(features, on=['Store','Date','IsHoliday'], how='left')\n",
    "test = test.merge(stores, on='Store', how='left')"
   ]
  },
  {
   "cell_type": "code",
   "execution_count": 4,
   "id": "75c9b288",
   "metadata": {},
   "outputs": [],
   "source": [
    "# Fill missing markdown values\n",
    "md_cols = ['MarkDown1','MarkDown2','MarkDown3','MarkDown4','MarkDown5']\n",
    "for col in md_cols:\n",
    "    train[col].fillna(0, inplace=True)\n",
    "    test[col].fillna(0, inplace=True)"
   ]
  },
  {
   "cell_type": "code",
   "execution_count": 5,
   "id": "b2e47db9",
   "metadata": {},
   "outputs": [],
   "source": [
    "# Impute numeric feature missing values with train medians\n",
    "num_cols = ['Temperature','Fuel_Price','CPI','Unemployment']\n",
    "for col in num_cols:\n",
    "    median_val = train[col].median()\n",
    "    train[col].fillna(median_val, inplace=True)\n",
    "    test[col].fillna(median_val, inplace=True)"
   ]
  },
  {
   "cell_type": "code",
   "execution_count": 6,
   "id": "de978274",
   "metadata": {},
   "outputs": [],
   "source": [
    "# Feature engineering: date parts\n",
    "for df in [train, test]:\n",
    "    df['Year'] = df['Date'].dt.year\n",
    "    df['Month'] = df['Date'].dt.month\n",
    "    df['WeekOfYear'] = df['Date'].dt.isocalendar().week"
   ]
  },
  {
   "cell_type": "code",
   "execution_count": 7,
   "id": "8cd1c834",
   "metadata": {},
   "outputs": [],
   "source": [
    "# One-hot encode store type\n",
    "train = pd.get_dummies(train, columns=['Type'], drop_first=True)\n",
    "test = pd.get_dummies(test, columns=['Type'], drop_first=True)\n",
    "\n",
    "# Align train/test columns\n",
    "train, test = train.align(test, join='left', axis=1, fill_value=0)\n",
    "\n",
    "# Define feature columns\n",
    "feature_cols = ['Store','Dept','Temperature','Fuel_Price','CPI','Unemployment','Size','Year','Month','WeekOfYear','IsHoliday'] + md_cols\n",
    "feature_cols += [col for col in train.columns if col.startswith('Type_')]\n",
    "\n",
    "# Prepare training data\n",
    "X_train = train[feature_cols]\n",
    "y_train = train['Weekly_Sales']"
   ]
  },
  {
   "cell_type": "code",
   "execution_count": 8,
   "id": "62ad9f59",
   "metadata": {},
   "outputs": [],
   "source": [
    "# Train Decision Tree Regressor\n",
    "model = DecisionTreeRegressor(max_depth=10, min_samples_leaf=20, random_state=42)\n",
    "model.fit(X_train, y_train)\n",
    "\n",
    "# Predict on test\n",
    "X_test = test[feature_cols]\n",
    "preds = model.predict(X_test)\n",
    "\n",
    "# Create Id column in the format store_dept_date\n",
    "submission = test.copy()\n",
    "submission['Id'] = submission['Store'].astype(str) + \"_\" + \\\n",
    "                   submission['Dept'].astype(str) + \"_\" + \\\n",
    "                   submission['Date'].dt.strftime(\"%Y-%m-%d\")\n",
    "\n",
    "# Add predictions\n",
    "submission['Weekly_Sales'] = preds\n",
    "\n",
    "# Select required columns and save\n",
    "submission[['Id', 'Weekly_Sales']].to_csv(\"Submission_DT.csv\", index=False)"
   ]
  }
 ],
 "metadata": {
  "kernelspec": {
   "display_name": "machine_learning",
   "language": "python",
   "name": "python3"
  },
  "language_info": {
   "codemirror_mode": {
    "name": "ipython",
    "version": 3
   },
   "file_extension": ".py",
   "mimetype": "text/x-python",
   "name": "python",
   "nbconvert_exporter": "python",
   "pygments_lexer": "ipython3",
   "version": "3.10.16"
  }
 },
 "nbformat": 4,
 "nbformat_minor": 5
}
