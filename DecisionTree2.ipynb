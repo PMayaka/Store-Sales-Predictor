{
 "cells": [
  {
   "cell_type": "code",
   "execution_count": null,
   "id": "0140fba8",
   "metadata": {},
   "outputs": [],
   "source": [
    "from sklearn.tree import DecisionTreeRegressor\n",
    "import pandas as pd"
   ]
  },
  {
   "cell_type": "code",
   "execution_count": 2,
   "id": "d526e09d",
   "metadata": {},
   "outputs": [],
   "source": [
    "folder = 'data'\n",
    "train = pd.read_csv(f\"./{folder}/train.csv\", parse_dates=[\"Date\"])\n",
    "test = pd.read_csv(f\"./{folder}/test.csv\", parse_dates=[\"Date\"])\n",
    "features = pd.read_csv(f\"./{folder}/features.csv\", parse_dates=[\"Date\"])\n",
    "stores = pd.read_csv(f\"./{folder}/stores.csv\")\n",
    "\n",
    "# Merge train and test with features and store data\n",
    "train = train.merge(features, on=[\"Store\", \"Date\", \"IsHoliday\"], how=\"left\")\n",
    "train = train.merge(stores, on=\"Store\", how=\"left\")\n",
    "\n",
    "test = test.merge(features, on=[\"Store\", \"Date\", \"IsHoliday\"], how=\"left\")\n",
    "test = test.merge(stores, on=\"Store\", how=\"left\")"
   ]
  },
  {
   "cell_type": "code",
   "execution_count": 3,
   "id": "c4f3735c",
   "metadata": {},
   "outputs": [],
   "source": [
    "# Add date-related features\n",
    "for df in [train, test]:\n",
    "    df['Year'] = df['Date'].dt.year\n",
    "    df['Month'] = df['Date'].dt.month\n",
    "    df['Week'] = df['Date'].dt.isocalendar().week.astype(int)\n",
    "    df['Day'] = df['Date'].dt.dayofweek\n",
    "\n",
    "# Encode categorical variables\n",
    "train['Type'] = train['Type'].map({'A': 0, 'B': 1, 'C': 2})\n",
    "test['Type'] = test['Type'].map({'A': 0, 'B': 1, 'C': 2})"
   ]
  },
  {
   "cell_type": "code",
   "execution_count": 4,
   "id": "b985a82f",
   "metadata": {},
   "outputs": [],
   "source": [
    "features_cols = ['Store', 'Dept', 'IsHoliday', 'Temperature', 'Fuel_Price',\n",
    "                 'CPI', 'Unemployment', 'Size', 'Type',\n",
    "                 'Year', 'Month', 'Week', 'Day']\n",
    "\n",
    "X_train = train[features_cols]\n",
    "y_train = train['Weekly_Sales']\n",
    "\n",
    "X_test = test[features_cols]"
   ]
  },
  {
   "cell_type": "code",
   "execution_count": 5,
   "id": "59059702",
   "metadata": {},
   "outputs": [],
   "source": [
    "# Initialize the model\n",
    "model = DecisionTreeRegressor(random_state=42)\n",
    "\n",
    "# Fit the model on training data\n",
    "model.fit(X_train, y_train)\n",
    "\n",
    "# Make predictions on the test set\n",
    "predictions = model.predict(X_test)"
   ]
  },
  {
   "cell_type": "code",
   "execution_count": 6,
   "id": "f8e6a038",
   "metadata": {},
   "outputs": [],
   "source": [
    "# Create Id column in the format store_dept_date\n",
    "submission = test.copy()\n",
    "submission['Id'] = submission['Store'].astype(str) + \"_\" + \\\n",
    "                   submission['Dept'].astype(str) + \"_\" + \\\n",
    "                   submission['Date'].dt.strftime(\"%Y-%m-%d\")\n",
    "\n",
    "# Add predictions\n",
    "submission['Weekly_Sales'] = predictions\n",
    "\n",
    "# Select required columns and save\n",
    "submission[['Id', 'Weekly_Sales']].to_csv(\"Submission2.csv\", index=False)"
   ]
  },
  {
   "cell_type": "code",
   "execution_count": null,
   "id": "97757259",
   "metadata": {},
   "outputs": [],
   "source": []
  }
 ],
 "metadata": {
  "kernelspec": {
   "display_name": "Python 3",
   "language": "python",
   "name": "python3"
  },
  "language_info": {
   "codemirror_mode": {
    "name": "ipython",
    "version": 3
   },
   "file_extension": ".py",
   "mimetype": "text/x-python",
   "name": "python",
   "nbconvert_exporter": "python",
   "pygments_lexer": "ipython3",
   "version": "3.11.9"
  }
 },
 "nbformat": 4,
 "nbformat_minor": 5
}
